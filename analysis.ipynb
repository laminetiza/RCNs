{
 "cells": [
  {
   "cell_type": "code",
   "execution_count": 24,
   "metadata": {},
   "outputs": [
    {
     "name": "stdout",
     "output_type": "stream",
     "text": [
      "Populating the interactive namespace from numpy and matplotlib\n"
     ]
    }
   ],
   "source": [
    "import pandas as pd\n",
    "from utils.utils import *\n",
    "from matplotlib.ticker import PercentFormatter\n",
    "\n",
    "\n",
    "%pylab inline"
   ]
  },
  {
   "cell_type": "markdown",
   "metadata": {},
   "source": [
    "## Analysis of a few products\n"
   ]
  },
  {
   "cell_type": "code",
   "execution_count": 6,
   "metadata": {},
   "outputs": [],
   "source": [
    "c = 0.1\n",
    "alpha = 1\n",
    "beta = 0.8\n",
    "T = list(range(1, 13))\n",
    "Delta = 1/12\n",
    "S0=11112\n",
    "UP = 1.0491\n",
    "DOWN = round(1/UP, 4)\n",
    "delta = 0.027798\n",
    "r = -0.007802"
   ]
  },
  {
   "cell_type": "code",
   "execution_count": 7,
   "metadata": {
    "scrolled": true
   },
   "outputs": [
    {
     "name": "stdout",
     "output_type": "stream",
     "text": [
      "Our parameters are:\n",
      "  - S0 = 11112\n",
      "  - Ti = [1, 2, 3, 4, 5, 6, 7, 8, 9, 10, 11, 12]\n",
      "  - Δ = 1/12\n",
      "  - δ = 2.7798%\n",
      "  - r = -0.7802%\n",
      "  - c = 10.00%\n",
      "  - α = 1.00\n",
      "  - β = 0.80\n"
     ]
    }
   ],
   "source": [
    "s = 'Our parameters are:'\n",
    "s+='\\n  - S0 = {}'.format(S0)\n",
    "s+='\\n  - Ti = {}'.format(T)\n",
    "s+='\\n  - \\u0394 = 1/{}'.format(int(1/Delta))\n",
    "s+='\\n  - \\u03B4 = {:.4%}'.format(delta)\n",
    "s+='\\n  - r = {:.4%}'.format(r)\n",
    "s+='\\n  - c = {:.2%}'.format(c)\n",
    "s+='\\n  - \\u03B1 = {:.2f}'.format(alpha)\n",
    "s+='\\n  - \\u03B2 = {:.2f}'.format(beta)\n",
    "print(s)"
   ]
  },
  {
   "cell_type": "markdown",
   "metadata": {},
   "source": [
    "### Simple RCN and Barrrier RCN prices :"
   ]
  },
  {
   "cell_type": "code",
   "execution_count": 8,
   "metadata": {},
   "outputs": [
    {
     "name": "stdout",
     "output_type": "stream",
     "text": [
      "The price of a simple RCN with maturity one year, monthly payments, annualized coupon rate 0.1 and strike α = 1 is:\n",
      "1.0352126301\n"
     ]
    }
   ],
   "source": [
    "simple_RCN = RCN_price(initial_index_price = S0,\n",
    "                       up_factor = UP, \n",
    "                       down_factor = DOWN, \n",
    "                       RCN_coupon_rate = c, \n",
    "                       RCN_alpha = alpha,\n",
    "                       RCN_payment_dates = T,\n",
    "                       index_dividend_yield = delta,\n",
    "                       RCN_barrier = False,\n",
    "                       RCN_callable = False,\n",
    "                       r = r,\n",
    "                       period_length = Delta)\n",
    "print(f'The price of a simple RCN with maturity one year, monthly payments,',\n",
    "      f'annualized coupon rate {c} and strike \\u03B1 = {alpha} is:\\n{simple_RCN}')"
   ]
  },
  {
   "cell_type": "code",
   "execution_count": 9,
   "metadata": {},
   "outputs": [
    {
     "name": "stdout",
     "output_type": "stream",
     "text": [
      "The price of a barrier RCN with maturity one year, monthly payments, annualized coupon rate 0.1, strike α = 1 and barrier β = 0.8 is:\n",
      "1.0744764017\n"
     ]
    }
   ],
   "source": [
    "barrier_RCN = RCN_price(initial_index_price = S0,\n",
    "                        up_factor = UP, \n",
    "                        down_factor = DOWN, \n",
    "                        RCN_coupon_rate = c, \n",
    "                        RCN_alpha = alpha,\n",
    "                        RCN_payment_dates = T,\n",
    "                        index_dividend_yield = delta,\n",
    "                        RCN_barrier = True,\n",
    "                        RCN_callable = False,\n",
    "                        r = r,\n",
    "                        period_length = Delta,\n",
    "                        RCN_beta = beta)\n",
    "print(f'The price of a barrier RCN with maturity one year, monthly payments,',\n",
    "      f'annualized coupon rate {c}, strike \\u03B1 = {alpha} and barrier',\n",
    "      f'\\u03B2 = {beta} is:\\n{barrier_RCN}')"
   ]
  },
  {
   "cell_type": "markdown",
   "metadata": {},
   "source": [
    "### Par coupon rates of simple RCN and Barrier RCN"
   ]
  },
  {
   "cell_type": "code",
   "execution_count": 10,
   "metadata": {},
   "outputs": [],
   "source": [
    "coupon_rates = np.linspace(0, 1, 10001)"
   ]
  },
  {
   "cell_type": "code",
   "execution_count": 11,
   "metadata": {},
   "outputs": [],
   "source": [
    "def c_per_rcn_type(barrier=False):    \n",
    "    error = []\n",
    "    prices = []\n",
    "\n",
    "    for c in coupon_rates: \n",
    "        price = RCN_price(initial_index_price = S0,\n",
    "                          up_factor = UP, \n",
    "                          down_factor = DOWN, \n",
    "                          RCN_coupon_rate = c, \n",
    "                          RCN_alpha = alpha,\n",
    "                          RCN_payment_dates = T,\n",
    "                          index_dividend_yield = delta,\n",
    "                          RCN_barrier = barrier,\n",
    "                          RCN_callable = False,\n",
    "                          r = r,\n",
    "                          period_length = Delta,\n",
    "                          RCN_beta = 0.8) # beta will be ignored if the barrier is false\n",
    "        \n",
    "        prices.append(price)\n",
    "        error.append(np.abs(price - 1.00))\n",
    "\n",
    "    return coupon_rates[np.argmin(error)], prices"
   ]
  },
  {
   "cell_type": "code",
   "execution_count": 12,
   "metadata": {},
   "outputs": [
    {
     "name": "stdout",
     "output_type": "stream",
     "text": [
      "The par coupon rate for the simple RCN is: 6.49%\n"
     ]
    }
   ],
   "source": [
    "cpn_par_simple, simple_prices = c_per_rcn_type(False)\n",
    "print('The par coupon rate for the simple RCN is: {:.2%}'.format(cpn_par_simple))"
   ]
  },
  {
   "cell_type": "code",
   "execution_count": 13,
   "metadata": {},
   "outputs": [
    {
     "name": "stdout",
     "output_type": "stream",
     "text": [
      "The par coupon rate for the barrier (β = 0.8) RCN is: 2.58%\n"
     ]
    }
   ],
   "source": [
    "cpn_par_barrier, barrier_prices = c_per_rcn_type(True)\n",
    "print('The par coupon rate for the barrier (\\u03B2 = 0.8) RCN is: {:.2%}'.format(cpn_par_barrier))"
   ]
  },
  {
   "cell_type": "code",
   "execution_count": 29,
   "metadata": {},
   "outputs": [
    {
     "data": {
      "image/png": "[encoded data removed]",
      "text/plain": [
       "<Figure size 640x480 with 1 Axes>"
      ]
     },
     "metadata": {
      "needs_background": "light"
     },
     "output_type": "display_data"
    }
   ],
   "source": [
    "fig = plt.figure(figsize=(8, 6), dpi=80)\n",
    "\n",
    "# plot simple RCN\n",
    "plt.plot(coupon_rates, simple_prices, label='Simple RCN')\n",
    "plt.plot([0, cpn_par_simple], [1, 1], c='g', ls='-.')\n",
    "plt.plot([cpn_par_simple, cpn_par_simple], [0, 1], c='g', ls='-.')\n",
    "\n",
    "# plot barrier RCN\n",
    "plt.plot(coupon_rates, barrier_prices, label='Barrier RCN')\n",
    "plt.plot([0, cpn_par_barrier], [1, 1], c='g', ls='-.')\n",
    "plt.plot([cpn_par_barrier, cpn_par_barrier], [0, 1], c='g', ls='-.')\n",
    "\n",
    "# make graph appealing\n",
    "plt.xticks(list(plt.xticks()[0]) + [cpn_par_barrier, cpn_par_simple], rotation=90)\n",
    "plt.title('Simple and barrier (\\u03B2 = 0.8) RCN price as a function of the coupon rate ')\n",
    "plt.xlabel('Coupon rate')\n",
    "plt.ylabel('RCN price')\n",
    "plt.gca().xaxis.set_major_formatter(PercentFormatter(xmax=1, decimals=2))\n",
    "plt.xlim([0, 1])\n",
    "plt.ylim([0.8, 2])\n",
    "plt.legend()\n",
    "plt.show() #test "
   ]
  },
  {
   "cell_type": "code",
   "execution_count": null,
   "metadata": {},
   "outputs": [],
   "source": []
  }
 ],
 "metadata": {
  "kernelspec": {
   "display_name": "Python 3",
   "language": "python",
   "name": "python3"
  },
  "language_info": {
   "codemirror_mode": {
    "name": "ipython",
    "version": 3
   },
   "file_extension": ".py",
   "mimetype": "text/x-python",
   "name": "python",
   "nbconvert_exporter": "python",
   "pygments_lexer": "ipython3",
   "version": "3.7.4"
  }
 },
 "nbformat": 4,
 "nbformat_minor": 4
}
