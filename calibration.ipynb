{
 "cells": [
  {
   "cell_type": "code",
   "execution_count": 1,
   "metadata": {},
   "outputs": [],
   "source": [
    "import pandas as pd\n",
    "from utils.utils import *\n",
    "from sklearn.linear_model import LinearRegression\n",
    "import numpy as np"
   ]
  },
  {
   "cell_type": "markdown",
   "metadata": {},
   "source": [
    "## Model calibration"
   ]
  },
  {
   "cell_type": "markdown",
   "metadata": {},
   "source": [
    "Read the SMI option prices data"
   ]
  },
  {
   "cell_type": "code",
   "execution_count": 2,
   "metadata": {},
   "outputs": [],
   "source": [
    "data = pd.read_csv('data.csv', delimiter=';')"
   ]
  },
  {
   "cell_type": "markdown",
   "metadata": {},
   "source": [
    "Read the SMI option prices data and find :\n",
    "* the risk free rate $r$ \n",
    "* continuously compounded dividend yield $\\delta$"
   ]
  },
  {
   "cell_type": "code",
   "execution_count": 3,
   "metadata": {},
   "outputs": [],
   "source": [
    "# parameters\n",
    "k = data['Strike']\n",
    "call = data['Call']\n",
    "put = data['Put']\n",
    "S0 = 11118\n",
    "T=1\n",
    "\n",
    "#linear regression data\n",
    "y = call - put - S0\n",
    "x = np.array(k).reshape((-1, 1))"
   ]
  },
  {
   "cell_type": "code",
   "execution_count": 4,
   "metadata": {},
   "outputs": [],
   "source": [
    "#linear regression\n",
    "model = LinearRegression().fit(x, y)"
   ]
  },
  {
   "cell_type": "markdown",
   "metadata": {},
   "source": [
    "We see if our model fits well the data"
   ]
  },
  {
   "cell_type": "code",
   "execution_count": 5,
   "metadata": {},
   "outputs": [
    {
     "name": "stdout",
     "output_type": "stream",
     "text": [
      "R^2 : 0.9999999999925049\n",
      "intercept: -304.8050147058839\n",
      "slope: -1.0078322426470585\n"
     ]
    }
   ],
   "source": [
    "#results\n",
    "print('R^2 : ' + str(model.score(x, y)))\n",
    "print('intercept:', model.intercept_)\n",
    "print('slope:', model.coef_[0])\n",
    "\n",
    "tot_div = -model.intercept_\n",
    "minus_disc_factor = model.coef_[0]"
   ]
  },
  {
   "cell_type": "markdown",
   "metadata": {},
   "source": [
    "For the rate r : $\\beta = -e^{-rT}$ with $T=1\\ (years)$ so $r = -\\frac{1}{T}ln(-\\beta)$ "
   ]
  },
  {
   "cell_type": "markdown",
   "metadata": {},
   "source": [
    "For the dividend yield we have: $(1-e^{-\\hat{\\delta}T})S_0 = \\mathcal{D}_0(T)$ so $\\hat{\\delta} = -\\frac{1}{T} ln(1-\\frac{D_0(T)}{S_0})$"
   ]
  },
  {
   "cell_type": "code",
   "execution_count": 6,
   "metadata": {},
   "outputs": [
    {
     "name": "stdout",
     "output_type": "stream",
     "text": [
      "Dividend yield : 0.027798\n",
      "Risk free rate : -0.007802\n"
     ]
    }
   ],
   "source": [
    "delta = round(-np.log(1 - tot_div/S0)/T, 6)\n",
    "print('Dividend yield : ' + str(delta))\n",
    "r =  round(-np.log(-minus_disc_factor)/T,6)\n",
    "print('Risk free rate : ' + str(r))\n"
   ]
  },
  {
   "cell_type": "code",
   "execution_count": null,
   "metadata": {},
   "outputs": [],
   "source": []
  },
  {
   "cell_type": "markdown",
   "metadata": {},
   "source": [
    "We now wish to compute the up and down factors $U$ and $D$ (where $U * D = 1$) using the relation :\n",
    "$q = \\frac{e^{(r - \\delta)\\Delta} - D }{U - D} \\overset{!}{=} 0.5$ in the EEM.\n",
    "\n",
    "Since the equation won't have real solutions, we use grid search to find the value of $U$ that fits our data the best. "
   ]
  },
  {
   "cell_type": "code",
   "execution_count": 8,
   "metadata": {},
   "outputs": [
    {
     "name": "stdout",
     "output_type": "stream",
     "text": [
      "UP =1.0491\n",
      "DOWN =0.9532\n"
     ]
    }
   ],
   "source": [
    "Delta = 1/12\n",
    "\n",
    "UP = grid_search(call.values, put.values, r, Delta, delta)\n",
    "DOWN = round(1 / UP, 4)\n",
    "print('UP =' + str(UP))\n",
    "print('DOWN =' + str(DOWN))"
   ]
  },
  {
   "cell_type": "code",
   "execution_count": null,
   "metadata": {},
   "outputs": [],
   "source": []
  }
 ],
 "metadata": {
  "kernelspec": {
   "display_name": "Python 3",
   "language": "python",
   "name": "python3"
  },
  "language_info": {
   "codemirror_mode": {
    "name": "ipython",
    "version": 3
   },
   "file_extension": ".py",
   "mimetype": "text/x-python",
   "name": "python",
   "nbconvert_exporter": "python",
   "pygments_lexer": "ipython3",
   "version": "3.7.4"
  }
 },
 "nbformat": 4,
 "nbformat_minor": 4
}
